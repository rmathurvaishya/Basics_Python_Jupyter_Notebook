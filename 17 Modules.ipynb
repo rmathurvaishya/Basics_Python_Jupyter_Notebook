{
 "cells": [
  {
   "cell_type": "code",
   "execution_count": 1,
   "metadata": {},
   "outputs": [
    {
     "name": "stdout",
     "output_type": "stream",
     "text": [
      "Help on module lengthconvertor:\n",
      "\n",
      "NAME\n",
      "    lengthconvertor - Conversion between units of length\n",
      "\n",
      "FUNCTIONS\n",
      "    Kmtomiles(n)\n",
      "        Returns the coverted length from km to mile\n",
      "    \n",
      "    feettoinches(n)\n",
      "        Returns the coverted length from feet to inches\n",
      "    \n",
      "    inchestofeet(n)\n",
      "        Returns the coverted length from inches to feet\n",
      "    \n",
      "    milestoKm(n)\n",
      "        Returns the coverted length from mile to km\n",
      "\n",
      "DATA\n",
      "    FtoI = 12\n",
      "    MtoK = 1.609344\n",
      "\n",
      "FILE\n",
      "    c:\\users\\91942\\python_tutorial\\lengthconvertor.py\n",
      "\n",
      "\n"
     ]
    }
   ],
   "source": [
    "import lengthconvertor\n",
    "help(lengthconvertor)"
   ]
  },
  {
   "cell_type": "code",
   "execution_count": 2,
   "metadata": {},
   "outputs": [
    {
     "name": "stdout",
     "output_type": "stream",
     "text": [
      "Help on module temperature:\n",
      "\n",
      "NAME\n",
      "    temperature - This is used for temperature conversion\n",
      "\n",
      "FUNCTIONS\n",
      "    to_celcius(x)\n",
      "        Converts temperature into celcius\n",
      "    \n",
      "    to_fahren(x)\n",
      "        Converts temperature into fahrenheit\n",
      "\n",
      "DATA\n",
      "    FREEZING_C = 0.0\n",
      "    FREEZING_F = 32.0\n",
      "\n",
      "FILE\n",
      "    c:\\users\\91942\\python_tutorial\\temperature.py\n",
      "\n",
      "\n"
     ]
    }
   ],
   "source": [
    "import temperature\n",
    "help(temperature)"
   ]
  },
  {
   "cell_type": "code",
   "execution_count": 14,
   "metadata": {},
   "outputs": [
    {
     "name": "stdout",
     "output_type": "stream",
     "text": [
      "93.33333333333333\n"
     ]
    }
   ],
   "source": [
    "from temperature import to_celcius\n",
    "print(to_celcius(200))"
   ]
  },
  {
   "cell_type": "code",
   "execution_count": 15,
   "metadata": {},
   "outputs": [
    {
     "name": "stdout",
     "output_type": "stream",
     "text": [
      "392.0\n"
     ]
    }
   ],
   "source": [
    "from temperature import to_fahren\n",
    "print(to_fahren(200))"
   ]
  },
  {
   "cell_type": "code",
   "execution_count": 16,
   "metadata": {},
   "outputs": [
    {
     "name": "stdout",
     "output_type": "stream",
     "text": [
      "-40.0\n"
     ]
    }
   ],
   "source": [
    "import temperature\n",
    "print(temperature.to_celcius(-40))"
   ]
  },
  {
   "cell_type": "code",
   "execution_count": 17,
   "metadata": {},
   "outputs": [
    {
     "name": "stdout",
     "output_type": "stream",
     "text": [
      "-40.0\n"
     ]
    }
   ],
   "source": [
    "import temperature\n",
    "print(temperature.to_fahren(-40))"
   ]
  },
  {
   "cell_type": "markdown",
   "metadata": {},
   "source": [
    "#STRING"
   ]
  },
  {
   "cell_type": "code",
   "execution_count": 18,
   "metadata": {},
   "outputs": [
    {
     "data": {
      "text/plain": [
       "'h*e*l*l*o'"
      ]
     },
     "execution_count": 18,
     "metadata": {},
     "output_type": "execute_result"
    }
   ],
   "source": [
    "\"*\".join(\"hello\")"
   ]
  },
  {
   "cell_type": "markdown",
   "metadata": {},
   "source": [
    "#Opening Any Website Using Python URLLIB & WEBBROWSER Module"
   ]
  },
  {
   "cell_type": "code",
   "execution_count": null,
   "metadata": {},
   "outputs": [],
   "source": [
    "#program to open a website along within your python program"
   ]
  },
  {
   "cell_type": "code",
   "execution_count": 20,
   "metadata": {},
   "outputs": [
    {
     "name": "stdout",
     "output_type": "stream",
     "text": [
      "the url is:  https://www.yahoo.com/\n",
      "HTTP ststus code is:  200\n",
      "Headers returned is:  date: Sun, 11 Apr 2021 10:39:12 GMT\n",
      "p3p: policyref=\"https://policies.yahoo.com/w3c/p3p.xml\", CP=\"CAO DSP COR CUR ADM DEV TAI PSA PSD IVAi IVDi CONi TELo OTPi OUR DELi SAMi OTRi UNRi PUBi IND PHY ONL UNI PUR FIN COM NAV INT DEM CNT STA POL HEA PRE LOC GOV\"\n",
      "cache-control: no-store, no-cache, max-age=0, private\n",
      "strict-transport-security: max-age=31536000\n",
      "accept-ch: device-memory, dpr, width, viewport-width, rtt, downlink, ect\n",
      "accept-ch-lifetime: 604800\n",
      "x-frame-options: SAMEORIGIN\n",
      "set-cookie: autorf=deleted; expires=Thu, 01-Jan-1970 00:00:01 GMT; Max-Age=0; path=/; domain=www.yahoo.com\n",
      "x-xss-protection: 1; mode=block\n",
      "content-security-policy: sandbox allow-forms allow-same-origin allow-scripts allow-popups allow-popups-to-escape-sandbox allow-presentation; report-uri https://csp.yahoo.com/beacon/csp?src=frontpage&site=fp&region=US&lang=en-US&device=desktop&partner=default;\n",
      "x-content-type-options: nosniff\n",
      "content-type: text/html; charset=UTF-8\n",
      "x-envoy-upstream-service-time: 11\n",
      "server: ATS\n",
      "Age: 2\n",
      "Transfer-Encoding: chunked\n",
      "Connection: close\n",
      "Expires: -1\n",
      "Expect-CT: max-age=31536000, report-uri=\"http://csp.yahoo.com/beacon/csp?src=yahoocom-expect-ct-report-only\"\n",
      "Referrer-Policy: no-referrer-when-downgrade\n",
      "\n",
      "\n",
      "The info() returned:  date: Sun, 11 Apr 2021 10:39:12 GMT\n",
      "p3p: policyref=\"https://policies.yahoo.com/w3c/p3p.xml\", CP=\"CAO DSP COR CUR ADM DEV TAI PSA PSD IVAi IVDi CONi TELo OTPi OUR DELi SAMi OTRi UNRi PUBi IND PHY ONL UNI PUR FIN COM NAV INT DEM CNT STA POL HEA PRE LOC GOV\"\n",
      "cache-control: no-store, no-cache, max-age=0, private\n",
      "strict-transport-security: max-age=31536000\n",
      "accept-ch: device-memory, dpr, width, viewport-width, rtt, downlink, ect\n",
      "accept-ch-lifetime: 604800\n",
      "x-frame-options: SAMEORIGIN\n",
      "set-cookie: autorf=deleted; expires=Thu, 01-Jan-1970 00:00:01 GMT; Max-Age=0; path=/; domain=www.yahoo.com\n",
      "x-xss-protection: 1; mode=block\n",
      "content-security-policy: sandbox allow-forms allow-same-origin allow-scripts allow-popups allow-popups-to-escape-sandbox allow-presentation; report-uri https://csp.yahoo.com/beacon/csp?src=frontpage&site=fp&region=US&lang=en-US&device=desktop&partner=default;\n",
      "x-content-type-options: nosniff\n",
      "content-type: text/html; charset=UTF-8\n",
      "x-envoy-upstream-service-time: 11\n",
      "server: ATS\n",
      "Age: 2\n",
      "Transfer-Encoding: chunked\n",
      "Connection: close\n",
      "Expires: -1\n",
      "Expect-CT: max-age=31536000, report-uri=\"http://csp.yahoo.com/beacon/csp?src=yahoocom-expect-ct-report-only\"\n",
      "Referrer-Policy: no-referrer-when-downgrade\n",
      "\n",
      "\n",
      "Now opening the url  https://www.yahoo.com/\n"
     ]
    },
    {
     "data": {
      "text/plain": [
       "True"
      ]
     },
     "execution_count": 20,
     "metadata": {},
     "output_type": "execute_result"
    }
   ],
   "source": [
    "import urllib.request          #The request.urlopen method is used to visit an URL & fetch its content to the python environment\n",
    "import webbrowser\n",
    "weburl = urllib.request.urlopen(\"https://www.yahoo.com/\")\n",
    "html=weburl.read()\n",
    "data=weburl.getcode()\n",
    "url=weburl.geturl()\n",
    "hd=weburl.headers\n",
    "inf=weburl.info()\n",
    "print(\"the url is: \",url)\n",
    "print(\"HTTP ststus code is: \", data)\n",
    "print(\"Headers returned is: \",hd)\n",
    "print(\"The info() returned: \",inf)\n",
    "print(\"Now opening the url \",url)\n",
    "webbrowser.open_new(url)"
   ]
  },
  {
   "cell_type": "code",
   "execution_count": 13,
   "metadata": {},
   "outputs": [],
   "source": [
    "import Example_of_Package_Library as elp"
   ]
  },
  {
   "cell_type": "code",
   "execution_count": 17,
   "metadata": {},
   "outputs": [
    {
     "ename": "AttributeError",
     "evalue": "module 'Example_of_Package_Library' has no attribute 'details'",
     "output_type": "error",
     "traceback": [
      "\u001b[1;31m---------------------------------------------------------------------------\u001b[0m",
      "\u001b[1;31mAttributeError\u001b[0m                            Traceback (most recent call last)",
      "\u001b[1;32m<ipython-input-17-e28c782fa625>\u001b[0m in \u001b[0;36m<module>\u001b[1;34m\u001b[0m\n\u001b[1;32m----> 1\u001b[1;33m \u001b[0mprint\u001b[0m\u001b[1;33m(\u001b[0m\u001b[0melp\u001b[0m\u001b[1;33m.\u001b[0m\u001b[0mdetails\u001b[0m\u001b[1;33m.\u001b[0m\u001b[0mdetails\u001b[0m\u001b[1;33m(\u001b[0m\u001b[1;33m)\u001b[0m\u001b[1;33m)\u001b[0m\u001b[1;33m\u001b[0m\u001b[1;33m\u001b[0m\u001b[0m\n\u001b[0m",
      "\u001b[1;31mAttributeError\u001b[0m: module 'Example_of_Package_Library' has no attribute 'details'"
     ]
    }
   ],
   "source": [
    "print(elp.details.details())"
   ]
  },
  {
   "cell_type": "code",
   "execution_count": 26,
   "metadata": {},
   "outputs": [],
   "source": [
    "from Example_of_Package_Library.ip import class12"
   ]
  },
  {
   "cell_type": "code",
   "execution_count": 3,
   "metadata": {},
   "outputs": [
    {
     "ename": "NameError",
     "evalue": "name 'class12' is not defined",
     "output_type": "error",
     "traceback": [
      "\u001b[1;31m---------------------------------------------------------------------------\u001b[0m",
      "\u001b[1;31mNameError\u001b[0m                                 Traceback (most recent call last)",
      "\u001b[1;32m<ipython-input-3-5d91d4f5a2b1>\u001b[0m in \u001b[0;36m<module>\u001b[1;34m\u001b[0m\n\u001b[1;32m----> 1\u001b[1;33m \u001b[0mprint\u001b[0m\u001b[1;33m(\u001b[0m\u001b[0mclass12\u001b[0m\u001b[1;33m.\u001b[0m\u001b[0mclass12\u001b[0m\u001b[1;33m)\u001b[0m\u001b[1;33m\u001b[0m\u001b[1;33m\u001b[0m\u001b[0m\n\u001b[0m",
      "\u001b[1;31mNameError\u001b[0m: name 'class12' is not defined"
     ]
    }
   ],
   "source": [
    "print(class12.class12)"
   ]
  },
  {
   "cell_type": "code",
   "execution_count": 29,
   "metadata": {},
   "outputs": [
    {
     "name": "stdout",
     "output_type": "stream",
     "text": [
      "<module 'Example_of_Package_Library.python.class9' from 'C:\\\\Users\\\\91942\\\\Example_of_Package_Library\\\\python\\\\class9.py'>\n"
     ]
    }
   ],
   "source": [
    "from Example_of_Package_Library.python import class9\n",
    "print(class9)"
   ]
  },
  {
   "cell_type": "code",
   "execution_count": 31,
   "metadata": {},
   "outputs": [
    {
     "name": "stdout",
     "output_type": "stream",
     "text": [
      "this is an example of library\n",
      "None\n"
     ]
    }
   ],
   "source": [
    "from Example_of_Package_Library.python import class11\n",
    "print(Example_of_Package_Library.python.class11.class11())"
   ]
  },
  {
   "cell_type": "code",
   "execution_count": 37,
   "metadata": {},
   "outputs": [
    {
     "name": "stdout",
     "output_type": "stream",
     "text": [
      "this is an example of packages\n",
      "None\n"
     ]
    }
   ],
   "source": [
    "from Example_of_Package_Library.ip import class10\n",
    "print(class10.class10())"
   ]
  },
  {
   "cell_type": "code",
   "execution_count": null,
   "metadata": {},
   "outputs": [],
   "source": []
  }
 ],
 "metadata": {
  "kernelspec": {
   "display_name": "Python 3",
   "language": "python",
   "name": "python3"
  },
  "language_info": {
   "codemirror_mode": {
    "name": "ipython",
    "version": 3
   },
   "file_extension": ".py",
   "mimetype": "text/x-python",
   "name": "python",
   "nbconvert_exporter": "python",
   "pygments_lexer": "ipython3",
   "version": "3.8.5"
  }
 },
 "nbformat": 4,
 "nbformat_minor": 4
}
