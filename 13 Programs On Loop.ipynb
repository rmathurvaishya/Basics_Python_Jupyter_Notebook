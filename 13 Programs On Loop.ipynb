{
 "cells": [
  {
   "cell_type": "markdown",
   "metadata": {},
   "source": [
    "#Program to Print First 10 Natural Numbers"
   ]
  },
  {
   "cell_type": "code",
   "execution_count": 2,
   "metadata": {},
   "outputs": [
    {
     "name": "stdout",
     "output_type": "stream",
     "text": [
      "1 2 3 4 5 6 7 8 9 10 "
     ]
    }
   ],
   "source": [
    "i=1\n",
    "while i<=10:\n",
    "    print(i, end=' ')\n",
    "    i=i+1"
   ]
  },
  {
   "cell_type": "code",
   "execution_count": 32,
   "metadata": {},
   "outputs": [
    {
     "name": "stdout",
     "output_type": "stream",
     "text": [
      "10 9 8 7 6 5 4 3 2 1 "
     ]
    }
   ],
   "source": [
    "i=10\n",
    "while i>=1:\n",
    "    print(i, end=' ')\n",
    "    i=i-1"
   ]
  },
  {
   "cell_type": "markdown",
   "metadata": {},
   "source": [
    "#Python Program to Find Sum of First n Natural Numbers (1 to n)"
   ]
  },
  {
   "cell_type": "code",
   "execution_count": 5,
   "metadata": {},
   "outputs": [
    {
     "name": "stdout",
     "output_type": "stream",
     "text": [
      "enter no5\n",
      "sum= 15\n"
     ]
    }
   ],
   "source": [
    "n=int(input('enter no'))\n",
    "i=1\n",
    "sum=0\n",
    "while i<=n:\n",
    "    sum=sum+i\n",
    "    i=i+1\n",
    "print('sum=',sum)"
   ]
  },
  {
   "cell_type": "markdown",
   "metadata": {},
   "source": [
    "#write a program to print sum of n to 1"
   ]
  },
  {
   "cell_type": "code",
   "execution_count": 29,
   "metadata": {},
   "outputs": [
    {
     "name": "stdout",
     "output_type": "stream",
     "text": [
      "5\n",
      "9\n",
      "12\n",
      "14\n",
      "15\n"
     ]
    }
   ],
   "source": [
    "n=5\n",
    "i=1\n",
    "sum=0\n",
    "while n>=i:\n",
    "    sum=sum+n\n",
    "    n=n-1\n",
    "    print(sum)              "
   ]
  },
  {
   "cell_type": "markdown",
   "metadata": {},
   "source": [
    "#Python Program to Find Sum of Square of First n Natural Numbers"
   ]
  },
  {
   "cell_type": "code",
   "execution_count": 31,
   "metadata": {},
   "outputs": [
    {
     "name": "stdout",
     "output_type": "stream",
     "text": [
      "enter no3\n",
      "1\n",
      "5\n",
      "14\n",
      "14\n"
     ]
    }
   ],
   "source": [
    "n=int(input('enter no'))\n",
    "i=1\n",
    "sum=0\n",
    "while i<=n:\n",
    "    sum=sum+(i*i)\n",
    "    i=i+1\n",
    "    print(sum)"
   ]
  },
  {
   "cell_type": "code",
   "execution_count": 48,
   "metadata": {},
   "outputs": [
    {
     "name": "stdout",
     "output_type": "stream",
     "text": [
      "please enter the maximum value: 50\n",
      "('The sum of Even numbers 1 to entered number', 650)\n",
      "('The sum of odd numbers 1 to entered number', 625)\n"
     ]
    }
   ],
   "source": [
    "max=int(input(\"please enter the maximum value: \"))\n",
    "even_Sum=0\n",
    "odd_Sum=0\n",
    "\n",
    "num=1\n",
    "while (num<=max):\n",
    "    if (num%2==0):\n",
    "        even_Sum=even_Sum+num\n",
    "    else:\n",
    "        odd_Sum=odd_Sum+num\n",
    "\n",
    "    num+=1\n",
    "\n",
    "print((\"The sum of Even numbers 1 to entered number\", even_Sum))\n",
    "print((\"The sum of odd numbers 1 to entered number\", odd_Sum))"
   ]
  },
  {
   "cell_type": "code",
   "execution_count": 3,
   "metadata": {},
   "outputs": [
    {
     "name": "stdout",
     "output_type": "stream",
     "text": [
      "2 4 6 8 10 12 14 16 18 20 22 24 26 28 30 32 34 36 38 40 42 44 46 48 50 "
     ]
    }
   ],
   "source": [
    "i=1                                #even no between 1to50\n",
    "while i<=50:\n",
    "    if i%2==0:\n",
    "        print(i, end=\" \")\n",
    "        \n",
    "    i=i+1"
   ]
  },
  {
   "cell_type": "code",
   "execution_count": 4,
   "metadata": {},
   "outputs": [
    {
     "name": "stdout",
     "output_type": "stream",
     "text": [
      "1 3 5 7 9 11 13 15 17 19 21 23 25 27 29 31 33 35 37 39 41 43 45 47 49 "
     ]
    }
   ],
   "source": [
    "i=1                                #odd no between 1to50\n",
    "while i<=50:\n",
    "    if i%2!=0:\n",
    "        print(i, end=\" \")\n",
    "        \n",
    "    i=i+1"
   ]
  },
  {
   "cell_type": "markdown",
   "metadata": {},
   "source": [
    "#Program to find Sum of Digits of a Given Number"
   ]
  },
  {
   "cell_type": "code",
   "execution_count": 1,
   "metadata": {
    "scrolled": true
   },
   "outputs": [
    {
     "name": "stdout",
     "output_type": "stream",
     "text": [
      "14\n"
     ]
    }
   ],
   "source": [
    "i=248\n",
    "sum=0\n",
    "while i>0:\n",
    "    sum=sum+i%10\n",
    "    i=i//10                 #decimal ke bad ke value drop krdega\n",
    "print(sum)"
   ]
  },
  {
   "cell_type": "markdown",
   "metadata": {},
   "source": [
    "#Program to find Sum of Square of digits of a given Number"
   ]
  },
  {
   "cell_type": "code",
   "execution_count": 2,
   "metadata": {},
   "outputs": [
    {
     "name": "stdout",
     "output_type": "stream",
     "text": [
      "84\n"
     ]
    }
   ],
   "source": [
    "i=248\n",
    "sum=0\n",
    "while i>0:\n",
    "    sum=sum+(i%10)*(i%10)\n",
    "    i=i//10                 #decimal ke bad ke value drop krdega\n",
    "print(sum)"
   ]
  },
  {
   "cell_type": "markdown",
   "metadata": {},
   "source": [
    "#Armstrong Number Program"
   ]
  },
  {
   "cell_type": "code",
   "execution_count": 12,
   "metadata": {},
   "outputs": [
    {
     "name": "stdout",
     "output_type": "stream",
     "text": [
      "enter no 407\n",
      "armstrong\n"
     ]
    }
   ],
   "source": [
    "i=int(input(\"enter no \"))\n",
    "orignal=i                                 #i ke value orignal me save ke so that at last we can compare\n",
    "sum=0\n",
    "while i>0:\n",
    "    sum=sum+(i%10)*(i%10)*(i%10)                        #\n",
    "    i=i//10\n",
    "if sum==orignal:\n",
    "    print('armstrong')\n",
    "else: \n",
    "    print('no')"
   ]
  },
  {
   "cell_type": "code",
   "execution_count": 2,
   "metadata": {},
   "outputs": [
    {
     "name": "stdout",
     "output_type": "stream",
     "text": [
      "enter no 8208\n",
      "armstrong\n"
     ]
    }
   ],
   "source": [
    "i=int(input(\"enter no \"))\n",
    "orignal=i                                 #i ke value orignal me save ke so that at last we can compare\n",
    "sum=0\n",
    "while i>0:\n",
    "    sum=sum+(i%10)*(i%10)*(i%10)*(i%10)\n",
    "    i=i//10\n",
    "if sum==orignal:\n",
    "    print('armstrong')\n",
    "else: \n",
    "    print('no')"
   ]
  },
  {
   "cell_type": "markdown",
   "metadata": {},
   "source": [
    "#Python Program to Find Product of Digits"
   ]
  },
  {
   "cell_type": "code",
   "execution_count": 5,
   "metadata": {},
   "outputs": [
    {
     "name": "stdout",
     "output_type": "stream",
     "text": [
      "enter no 243\n",
      "product = 24\n"
     ]
    }
   ],
   "source": [
    "n=int(input('enter no '))\n",
    "product=1\n",
    "while n>0:\n",
    "    product=product*(n%10)\n",
    "    n=n//10\n",
    "print('product =', product)"
   ]
  },
  {
   "cell_type": "markdown",
   "metadata": {},
   "source": [
    "#Python Program to Reverse of a Number"
   ]
  },
  {
   "cell_type": "code",
   "execution_count": 3,
   "metadata": {},
   "outputs": [
    {
     "name": "stdout",
     "output_type": "stream",
     "text": [
      "enter number 12345\n",
      "rev = 54321\n"
     ]
    }
   ],
   "source": [
    "i=int(input(\"enter number \"))\n",
    "rev=0\n",
    "while i>0:\n",
    "    rev=(rev*10)+i%10\n",
    "    i=i//10\n",
    "print(\"rev =\",rev)"
   ]
  },
  {
   "cell_type": "markdown",
   "metadata": {},
   "source": [
    "#Python Program to Check a Number is Palindrome or Not "
   ]
  },
  {
   "cell_type": "code",
   "execution_count": 11,
   "metadata": {},
   "outputs": [
    {
     "name": "stdout",
     "output_type": "stream",
     "text": [
      "enter number 91519\n",
      "palindrome\n"
     ]
    }
   ],
   "source": [
    "i=int(input(\"enter number \"))\n",
    "x=i\n",
    "rev=0\n",
    "while i>0:\n",
    "    rev=(rev*10)+i%10\n",
    "    i=i//10\n",
    "if x==rev: print(\"palindrome\")\n",
    "else: print(\"not palindrome\")"
   ]
  },
  {
   "cell_type": "markdown",
   "metadata": {},
   "source": [
    "#Prime Number in Python"
   ]
  },
  {
   "cell_type": "code",
   "execution_count": 17,
   "metadata": {},
   "outputs": [
    {
     "name": "stdout",
     "output_type": "stream",
     "text": [
      "enter no 11\n",
      "prime number\n"
     ]
    }
   ],
   "source": [
    "n=int(input(\"enter no \"))\n",
    "count=0\n",
    "i=1\n",
    "while i<=n:\n",
    "    if n%i==0:\n",
    "        count=count+1\n",
    "    i=i+1\n",
    "if count==2:                     #A prime number is a whole number greater than 1 whose only factors are 1 and itself.\n",
    "    print('prime number')\n",
    "else:\n",
    "    print('composite number')\n"
   ]
  },
  {
   "cell_type": "code",
   "execution_count": 11,
   "metadata": {},
   "outputs": [
    {
     "name": "stdout",
     "output_type": "stream",
     "text": [
      "2\n",
      "prime\n"
     ]
    }
   ],
   "source": [
    "n = int(input())\n",
    "\n",
    "def check(n):\n",
    "    for i in range(2,n):\n",
    "        if n % i == 0:\n",
    "            print(\"Not prime\")\n",
    "            break\n",
    "    else:\n",
    "        print(\"prime\")\n",
    "\n",
    "result = check(n)"
   ]
  },
  {
   "cell_type": "markdown",
   "metadata": {},
   "source": [
    "#Factorial Program in Python"
   ]
  },
  {
   "cell_type": "code",
   "execution_count": 18,
   "metadata": {},
   "outputs": [
    {
     "name": "stdout",
     "output_type": "stream",
     "text": [
      "enter no 5\n",
      "factorian = 120\n"
     ]
    }
   ],
   "source": [
    "i=int(input('enter no '))\n",
    "fac=1\n",
    "while i>0:\n",
    "    fac=fac*i\n",
    "    i=i-1\n",
    "print('factorian =',fac)"
   ]
  },
  {
   "cell_type": "code",
   "execution_count": 2,
   "metadata": {},
   "outputs": [
    {
     "name": "stdout",
     "output_type": "stream",
     "text": [
      "enter no 5\n",
      "120\n"
     ]
    }
   ],
   "source": [
    "def fact(n):\n",
    "    if n==0:\n",
    "        return 1\n",
    "    return n*fact(n-1)\n",
    "\n",
    "i=int(input('enter no '))\n",
    "\n",
    "result = fact(i)\n",
    "\n",
    "print(result)"
   ]
  },
  {
   "cell_type": "code",
   "execution_count": null,
   "metadata": {},
   "outputs": [],
   "source": [
    "# Printing Stars '*' in Right Angle Triangle Shape in \"10 while loop\""
   ]
  },
  {
   "cell_type": "markdown",
   "metadata": {},
   "source": [
    "#above programs with \"for\" loop:"
   ]
  },
  {
   "cell_type": "code",
   "execution_count": 1,
   "metadata": {},
   "outputs": [
    {
     "name": "stdout",
     "output_type": "stream",
     "text": [
      "1\n",
      "2\n",
      "3\n",
      "4\n",
      "5\n",
      "6\n",
      "7\n",
      "8\n",
      "9\n",
      "10\n"
     ]
    }
   ],
   "source": [
    "i=1\n",
    "for i in range(1,11):\n",
    "    print(i)\n",
    "    i=i+1"
   ]
  },
  {
   "cell_type": "code",
   "execution_count": 8,
   "metadata": {},
   "outputs": [
    {
     "name": "stdout",
     "output_type": "stream",
     "text": [
      "10\n",
      "9\n",
      "8\n",
      "7\n",
      "6\n",
      "5\n",
      "4\n",
      "3\n",
      "2\n",
      "1\n"
     ]
    }
   ],
   "source": [
    "for i in range(10,0,-1):\n",
    "    print(i)"
   ]
  },
  {
   "cell_type": "code",
   "execution_count": 9,
   "metadata": {},
   "outputs": [
    {
     "name": "stdout",
     "output_type": "stream",
     "text": [
      "11\n"
     ]
    }
   ],
   "source": [
    "sum=0\n",
    "for i in range(1,11):\n",
    "    sum=sum+i\n",
    "    i=i+1\n",
    "print(i)"
   ]
  },
  {
   "cell_type": "code",
   "execution_count": 53,
   "metadata": {},
   "outputs": [
    {
     "name": "stdout",
     "output_type": "stream",
     "text": [
      "0 0 0 0 0 0 \n",
      "1 1 1 1 1 1 \n",
      "2 2 2 2 2 2 \n",
      "3 3 3 3 3 3 \n",
      "4 4 4 4 4 4 \n"
     ]
    }
   ],
   "source": [
    "for x in range(5):\n",
    "    for y in range(6):\n",
    "        print(x,end=\" \")\n",
    "    print()"
   ]
  },
  {
   "cell_type": "code",
   "execution_count": 54,
   "metadata": {},
   "outputs": [
    {
     "name": "stdout",
     "output_type": "stream",
     "text": [
      "Enter a natural number: 10\n",
      "55\n"
     ]
    }
   ],
   "source": [
    "N = int(input(\"Enter a natural number: \"))\n",
    "\n",
    "answer=0\n",
    "\n",
    "for i in range(0,N+1):\n",
    "    answer = answer + i;\n",
    "\n",
    "print(answer)"
   ]
  },
  {
   "cell_type": "code",
   "execution_count": 55,
   "metadata": {},
   "outputs": [
    {
     "name": "stdout",
     "output_type": "stream",
     "text": [
      "55\n"
     ]
    }
   ],
   "source": [
    "sum=0\n",
    "for i in range(0,11):\n",
    "    sum=sum+i\n",
    "    i=i+1\n",
    "print(sum)"
   ]
  },
  {
   "cell_type": "code",
   "execution_count": 61,
   "metadata": {},
   "outputs": [
    {
     "name": "stdout",
     "output_type": "stream",
     "text": [
      "10\n",
      "19\n",
      "27\n",
      "34\n",
      "40\n",
      "45\n",
      "49\n",
      "52\n",
      "54\n",
      "55\n"
     ]
    }
   ],
   "source": [
    "sum=0\n",
    "for i in range(10,0,-1):\n",
    "    sum=sum+i\n",
    "    i=i-1\n",
    "    print(sum)"
   ]
  },
  {
   "cell_type": "code",
   "execution_count": 64,
   "metadata": {},
   "outputs": [
    {
     "name": "stdout",
     "output_type": "stream",
     "text": [
      "14\n"
     ]
    }
   ],
   "source": [
    "sum=0\n",
    "for i in range(0,4):\n",
    "    sum=sum+(i%10)*(i%10)\n",
    "print(sum)"
   ]
  },
  {
   "cell_type": "code",
   "execution_count": 1,
   "metadata": {},
   "outputs": [
    {
     "name": "stdout",
     "output_type": "stream",
     "text": [
      "55\n"
     ]
    }
   ],
   "source": [
    "my_list = [1,2,3,4,5,6,7,8,9,10,]\n",
    "sum = 0\n",
    "for n in my_list:\n",
    "    sum = sum + n\n",
    "print(sum)"
   ]
  },
  {
   "cell_type": "code",
   "execution_count": null,
   "metadata": {},
   "outputs": [],
   "source": [
    "# duplicates in list"
   ]
  },
  {
   "cell_type": "code",
   "execution_count": 6,
   "metadata": {},
   "outputs": [
    {
     "name": "stdout",
     "output_type": "stream",
     "text": [
      "[12, 90, 12, 90]\n"
     ]
    }
   ],
   "source": [
    "li = ['434',12,90,23,True,False,12,99,100,150,160,90]\n",
    "duplicate = []\n",
    "for values in li:\n",
    "    if li.count(values)>1:\n",
    "        duplicate.append(values)\n",
    "print(duplicate)\n",
    "    "
   ]
  },
  {
   "cell_type": "code",
   "execution_count": 10,
   "metadata": {},
   "outputs": [
    {
     "name": "stdout",
     "output_type": "stream",
     "text": [
      "enter no5\n",
      "25\n"
     ]
    }
   ],
   "source": [
    "i=int(input('enter no'))\n",
    "sum=0\n",
    "while (i>0):\n",
    "    sum = sum + (i%10)*(i%10)\n",
    "    i = i // 10\n",
    "print(sum)"
   ]
  },
  {
   "cell_type": "code",
   "execution_count": null,
   "metadata": {},
   "outputs": [],
   "source": []
  }
 ],
 "metadata": {
  "kernelspec": {
   "display_name": "Python 3",
   "language": "python",
   "name": "python3"
  },
  "language_info": {
   "codemirror_mode": {
    "name": "ipython",
    "version": 3
   },
   "file_extension": ".py",
   "mimetype": "text/x-python",
   "name": "python",
   "nbconvert_exporter": "python",
   "pygments_lexer": "ipython3",
   "version": "3.9.6"
  }
 },
 "nbformat": 4,
 "nbformat_minor": 4
}
