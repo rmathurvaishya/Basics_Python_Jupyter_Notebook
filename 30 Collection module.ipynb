{
 "cells": [
  {
   "cell_type": "code",
   "execution_count": 1,
   "id": "c6be9494",
   "metadata": {},
   "outputs": [
    {
     "name": "stdout",
     "output_type": "stream",
     "text": [
      "courses(name='data science', tech='python')\n"
     ]
    }
   ],
   "source": [
    "from collections import namedtuple\n",
    "\n",
    "a = namedtuple('courses' , 'name , tech')\n",
    "s = a('data science' , 'python')\n",
    "print(s)"
   ]
  },
  {
   "cell_type": "code",
   "execution_count": 2,
   "id": "d9105a40",
   "metadata": {},
   "outputs": [
    {
     "name": "stdout",
     "output_type": "stream",
     "text": [
      "deque(['d', 'u', 'r', 'e', 'k'])\n"
     ]
    }
   ],
   "source": [
    "from collections import deque\n",
    " \n",
    "a = ['d' , 'u' , 'r' , 'e' , 'k']\n",
    "a1 = deque(a)\n",
    "\n",
    "print(a1)"
   ]
  },
  {
   "cell_type": "code",
   "execution_count": 3,
   "id": "33711f68",
   "metadata": {},
   "outputs": [
    {
     "name": "stdout",
     "output_type": "stream",
     "text": [
      "deque(['d', 'u', 'r', 'e', 'k', 'a'])\n",
      "deque(['e', 'd', 'u', 'r', 'e', 'k', 'a'])\n"
     ]
    }
   ],
   "source": [
    "a1.append('a')\n",
    "print(a1)\n",
    "\n",
    "## IMP\n",
    "\n",
    "a1.appendleft('e')\n",
    "print(a1)"
   ]
  },
  {
   "cell_type": "code",
   "execution_count": null,
   "id": "bef35475",
   "metadata": {},
   "outputs": [],
   "source": [
    "### COUNTER"
   ]
  },
  {
   "cell_type": "code",
   "execution_count": null,
   "id": "e01a1b79",
   "metadata": {},
   "outputs": [],
   "source": [
    "##It is a dictionary subclass which is used to count hashable objects."
   ]
  },
  {
   "cell_type": "code",
   "execution_count": 4,
   "id": "7f7421c1",
   "metadata": {},
   "outputs": [
    {
     "name": "stdout",
     "output_type": "stream",
     "text": [
      "Counter({1: 4, 3: 4, 4: 2, 2: 1})\n"
     ]
    }
   ],
   "source": [
    "from collections import Counter\n",
    "a = [1,1,1,1,2,3,3,4,3,3,4]\n",
    "c = Counter(a)\n",
    "print(c)"
   ]
  },
  {
   "cell_type": "code",
   "execution_count": 5,
   "id": "6699e62a",
   "metadata": {},
   "outputs": [
    {
     "name": "stdout",
     "output_type": "stream",
     "text": [
      "{<class 'int'>: 5, <class 'str'>: 4, <class 'float'>: 1, <class 'bool'>: 1, <class 'NoneType'>: 1}\n"
     ]
    }
   ],
   "source": [
    "from collections import Counter\n",
    "\n",
    "lst = [2, 3, 'Py', '10', 1, 'SQL', 5.5, True, 3, 'John', None, 7]\n",
    "\n",
    "c = Counter(type(x) for x in lst)\n",
    "\n",
    "print(dict(c))"
   ]
  },
  {
   "cell_type": "code",
   "execution_count": null,
   "id": "d4266397",
   "metadata": {},
   "outputs": [],
   "source": []
  }
 ],
 "metadata": {
  "kernelspec": {
   "display_name": "Python 3",
   "language": "python",
   "name": "python3"
  },
  "language_info": {
   "codemirror_mode": {
    "name": "ipython",
    "version": 3
   },
   "file_extension": ".py",
   "mimetype": "text/x-python",
   "name": "python",
   "nbconvert_exporter": "python",
   "pygments_lexer": "ipython3",
   "version": "3.9.6"
  }
 },
 "nbformat": 4,
 "nbformat_minor": 5
}
