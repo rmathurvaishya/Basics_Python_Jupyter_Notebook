{
 "cells": [
  {
   "cell_type": "code",
   "execution_count": 1,
   "id": "94632e55",
   "metadata": {},
   "outputs": [],
   "source": [
    "import re"
   ]
  },
  {
   "cell_type": "code",
   "execution_count": 2,
   "id": "4785f4e6",
   "metadata": {},
   "outputs": [],
   "source": [
    "string = \"search inside of this text please!\""
   ]
  },
  {
   "cell_type": "code",
   "execution_count": 3,
   "id": "533f90fd",
   "metadata": {},
   "outputs": [
    {
     "name": "stdout",
     "output_type": "stream",
     "text": [
      "<re.Match object; span=(17, 21), match='this'>\n"
     ]
    }
   ],
   "source": [
    "## The re.search() method takes two arguments: a pattern and a string.\n",
    "\n",
    "## The method looks for the first location where the RegEx pattern produces a 'match' with the string.\n",
    "\n",
    "## If the search is successful, re.search() returns a match object; if not, it returns None.\n",
    "\n",
    "a = re.search('this',string)\n",
    "print(a)"
   ]
  },
  {
   "cell_type": "code",
   "execution_count": 4,
   "id": "24607bfe",
   "metadata": {},
   "outputs": [
    {
     "name": "stdout",
     "output_type": "stream",
     "text": [
      "(17, 21)\n"
     ]
    }
   ],
   "source": [
    "## The span() function returns a tuple containing start and end index of the matched part. span() tells where the string occurs.\n",
    "\n",
    "print(a.span())"
   ]
  },
  {
   "cell_type": "code",
   "execution_count": 5,
   "id": "9e1696c5",
   "metadata": {},
   "outputs": [
    {
     "name": "stdout",
     "output_type": "stream",
     "text": [
      "17\n"
     ]
    }
   ],
   "source": [
    "## the start() function returns the index of the start of the matched substring.\n",
    "\n",
    "print(a.start())"
   ]
  },
  {
   "cell_type": "code",
   "execution_count": 6,
   "id": "60ed1fe4",
   "metadata": {},
   "outputs": [
    {
     "name": "stdout",
     "output_type": "stream",
     "text": [
      "21\n"
     ]
    }
   ],
   "source": [
    "## end() returns the end index of the matched substring.\n",
    "\n",
    "print(a.end())"
   ]
  },
  {
   "cell_type": "code",
   "execution_count": 7,
   "id": "254c916d",
   "metadata": {},
   "outputs": [
    {
     "name": "stdout",
     "output_type": "stream",
     "text": [
      "this\n"
     ]
    }
   ],
   "source": [
    "## The group() method returns the part of the string where there is a match.\n",
    "\n",
    "print(a.group())"
   ]
  },
  {
   "cell_type": "code",
   "execution_count": 11,
   "id": "10832dc9",
   "metadata": {},
   "outputs": [
    {
     "name": "stdout",
     "output_type": "stream",
     "text": [
      "this\n"
     ]
    }
   ],
   "source": [
    "import re\n",
    "\n",
    "pattern = re.compile('this')\n",
    "string = \"search this inside of this text please!\"\n",
    "a = pattern.search(string)\n",
    "print(a.group())"
   ]
  },
  {
   "cell_type": "code",
   "execution_count": null,
   "id": "eeb47586",
   "metadata": {},
   "outputs": [],
   "source": []
  }
 ],
 "metadata": {
  "kernelspec": {
   "display_name": "Python 3",
   "language": "python",
   "name": "python3"
  },
  "language_info": {
   "codemirror_mode": {
    "name": "ipython",
    "version": 3
   },
   "file_extension": ".py",
   "mimetype": "text/x-python",
   "name": "python",
   "nbconvert_exporter": "python",
   "pygments_lexer": "ipython3",
   "version": "3.8.5"
  }
 },
 "nbformat": 4,
 "nbformat_minor": 5
}
