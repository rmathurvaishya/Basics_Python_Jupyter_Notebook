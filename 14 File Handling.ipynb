{
 "cells": [
  {
   "cell_type": "code",
   "execution_count": 2,
   "metadata": {},
   "outputs": [
    {
     "name": "stdout",
     "output_type": "stream",
     "text": [
      "file handling in python.\n"
     ]
    }
   ],
   "source": [
    "f = open(\"D:\\\\PYTHON\\\\start\\\\example.txt\",\"r\")\n",
    "value = f.read()\n",
    "print(value)"
   ]
  },
  {
   "cell_type": "code",
   "execution_count": 3,
   "metadata": {},
   "outputs": [],
   "source": [
    "# '\\\\' becoz \"\\n\" new line indicate krta ha so sometime error de skta ha if file name me n ayato\n",
    "#  \"\\\" singlew ke liye see In[4] mode phle likha\n",
    "\n",
    "#\"r\" - Read - Default value. Opens a file for reading, error if the file does not exist\n",
    "\n",
    "#\"a\" - Append - Opens a file for appending, creates the file if it does not exist\n",
    "\n",
    "#\"w\" - Write - Opens a file for writing. Creates a new file if it does not exist or truncates the file if it exists.\n",
    "\n",
    "#\"x\" - Create - Creates the specified file, returns an error if the file exists"
   ]
  },
  {
   "cell_type": "code",
   "execution_count": 4,
   "metadata": {},
   "outputs": [],
   "source": [
    "#To open the file, use the built-in open() function.\n",
    "\n",
    "#The open() function returns a file object, which has a read() method for reading the content of the file"
   ]
  },
  {
   "cell_type": "code",
   "execution_count": 12,
   "metadata": {
    "scrolled": false
   },
   "outputs": [
    {
     "name": "stdout",
     "output_type": "stream",
     "text": [
      "file h\n"
     ]
    }
   ],
   "source": [
    "z = open(\"D:\\\\PYTHON\\\\start\\\\example.txt\",\"r\")\n",
    "bit = z.read(6)\n",
    "print(bit)"
   ]
  },
  {
   "cell_type": "code",
   "execution_count": 6,
   "metadata": {},
   "outputs": [
    {
     "name": "stdout",
     "output_type": "stream",
     "text": [
      "this is an example of file handling.\n"
     ]
    }
   ],
   "source": [
    "abba = open(r'D:\\PYTHON\\start\\example3.txt')     \n",
    "ba= abba.read()\n",
    "print(ba)\n",
    "abba.close()"
   ]
  },
  {
   "cell_type": "code",
   "execution_count": 7,
   "metadata": {},
   "outputs": [
    {
     "name": "stdout",
     "output_type": "stream",
     "text": [
      "India accounts for the bulk of the Indian subcontinent, lying atop the Indian tectonic plate, a part of the Indo-Australian Plate.[166] India's defining geological processes began 75 million years ago\n"
     ]
    }
   ],
   "source": [
    "pen = open(\"D:\\PYTHON\\start\\example4.txt\")\n",
    "f = pen.readline(200)\n",
    "print(f)"
   ]
  },
  {
   "cell_type": "code",
   "execution_count": 8,
   "metadata": {},
   "outputs": [
    {
     "name": "stdout",
     "output_type": "stream",
     "text": [
      "enter name ram\n",
      "enter name sham\n",
      "enter name aram\n"
     ]
    }
   ],
   "source": [
    "lekh = open('D:\\\\PYTHON\\\\start\\\\example2.txt','w')\n",
    "for i in range(3):\n",
    "    name = input(\"enter name \")\n",
    "    lekh.write(name)\n",
    "    lekh.write(\"\\n\")\n",
    "lekh.close()"
   ]
  },
  {
   "cell_type": "code",
   "execution_count": 9,
   "metadata": {},
   "outputs": [
    {
     "name": "stdout",
     "output_type": "stream",
     "text": [
      "enter name ram\n",
      "enter name sham\n",
      "enter name aram\n",
      "enter name oram\n",
      "enter name vram\n"
     ]
    }
   ],
   "source": [
    "omm = open('D:\\\\PYTHON\\\\start\\\\example5.txt','w')\n",
    "name = []\n",
    "for i in range(5):\n",
    "    val=input(\"enter name \")\n",
    "    name.append(val + \"\\n\")                  #\"writelines\" me \\n ko sath me lilhte ha \n",
    "omm.writelines(name)\n",
    "omm.close()"
   ]
  },
  {
   "cell_type": "code",
   "execution_count": null,
   "metadata": {},
   "outputs": [],
   "source": [
    "#flush()\tFlushes the write buffer of the file stream"
   ]
  },
  {
   "cell_type": "code",
   "execution_count": 26,
   "metadata": {},
   "outputs": [
    {
     "name": "stdout",
     "output_type": "stream",
     "text": [
      "enter size = 2\n",
      "enter no = 1\n",
      "enter name = ram\n",
      "enter marks = 2.45\n",
      "enter no = 2\n",
      "enter name = sham\n",
      "enter marks = 44.5\n"
     ]
    }
   ],
   "source": [
    "size = int(input(\"enter size = \"))\n",
    "obj1 = open('D:\\\\PYTHON\\\\start\\\\example6.txt','w')\n",
    "for i in range(size):\n",
    "    roll=int(input(\"enter no = \"))\n",
    "    name=input(\"enter name = \")\n",
    "    marks=float(input(\"enter marks = \"))\n",
    "    rec= str(roll)+\",\"+name+\",\"+str(marks)+\"\\n\"\n",
    "    obj1.write(rec)\n",
    "obj1.close()\n"
   ]
  },
  {
   "cell_type": "code",
   "execution_count": 27,
   "metadata": {},
   "outputs": [
    {
     "name": "stdout",
     "output_type": "stream",
     "text": [
      "enter no = 10\n",
      "enter name = qwerty\n",
      "enter marks = 34.66\n",
      "enter no = 50\n",
      "enter name = uiop\n",
      "enter marks = 66.99\n"
     ]
    }
   ],
   "source": [
    "obj2 = open('D:\\\\PYTHON\\\\start\\\\example6.txt','a')\n",
    "for i in range(2):\n",
    "    roll=int(input(\"enter no = \"))\n",
    "    name=input(\"enter name = \")\n",
    "    marks=float(input(\"enter marks = \"))\n",
    "    rec= str(roll)+\",\"+name+\",\"+str(marks)+\"\\n\"\n",
    "    obj2.write(rec)\n",
    "obj2.close()\n"
   ]
  },
  {
   "cell_type": "code",
   "execution_count": null,
   "metadata": {},
   "outputs": [],
   "source": [
    "#BINARY FILE"
   ]
  },
  {
   "cell_type": "code",
   "execution_count": 15,
   "metadata": {},
   "outputs": [
    {
     "name": "stdout",
     "output_type": "stream",
     "text": [
      "data is stored\n"
     ]
    }
   ],
   "source": [
    "import pickle\n",
    "def siddh():\n",
    "    f=open(\"D:\\\\PYTHON\\\\start\\\\myfile.dat\",\"wb\")\n",
    "    lst=[\"red\",\"blue\",\"green\",\"white\",\"black\",\"orange\"]\n",
    "    pickle.dump(lst,f)\n",
    "    f.close()\n",
    "siddh()\n",
    "print(\"data is stored\")"
   ]
  },
  {
   "cell_type": "code",
   "execution_count": 16,
   "metadata": {},
   "outputs": [
    {
     "name": "stdout",
     "output_type": "stream",
     "text": [
      "['red', 'blue', 'green', 'white', 'black', 'orange']\n",
      "data is showed\n"
     ]
    }
   ],
   "source": [
    "import pickle\n",
    "def pd():\n",
    "    z=open(\"D:\\\\PYTHON\\\\start\\\\myfile.dat\",\"rb\")\n",
    "    lst2=pickle.load(z)\n",
    "    print(lst2)\n",
    "    z.close\n",
    "pd()\n",
    "print(\"data is showed\")"
   ]
  },
  {
   "cell_type": "code",
   "execution_count": 25,
   "metadata": {},
   "outputs": [],
   "source": [
    "import pickle\n",
    "def write():\n",
    "    f=open(\"D:\\\\PYTHON\\\\start\\\\myfile2.dat\",\"wb\")\n",
    "    record=[]\n",
    "    while True:\n",
    "        roll=int(input(\"enter number \"))\n",
    "        name=input(\"enter name \")\n",
    "        marks=int(input(\"enters marks \"))\n",
    "        list1=[roll,name,marks]\n",
    "        record.append(list1)\n",
    "        Choice = input(\"enter more records (y/n) \")\n",
    "        if Choice==\"n\":\n",
    "            break\n",
    "            pickle.dump(record,f)\n",
    "        print(\"data is stored \")"
   ]
  },
  {
   "cell_type": "code",
   "execution_count": 24,
   "metadata": {},
   "outputs": [
    {
     "name": "stdout",
     "output_type": "stream",
     "text": [
      "enter number 1\n",
      "enter name qwe\n",
      "enters marks 11\n",
      "enter more records (y/n) y\n",
      "enter number 2\n",
      "enter name asd\n",
      "enters marks 22\n",
      "enter more records (y/n) y\n",
      "enter number 3\n",
      "enter name zxc\n",
      "enters marks 33\n",
      "enter more records (y/n) n\n"
     ]
    }
   ],
   "source": [
    "write()"
   ]
  },
  {
   "cell_type": "code",
   "execution_count": 69,
   "metadata": {},
   "outputs": [],
   "source": [
    "import pickle\n",
    "def read11():\n",
    "    r=open(\"D:\\\\PYTHON\\\\start\\\\myfile2.dat\",\"rb\")\n",
    "    s=pickle.load(r)\n",
    "    print(s)\n",
    "    r.close()"
   ]
  },
  {
   "cell_type": "code",
   "execution_count": 70,
   "metadata": {},
   "outputs": [
    {
     "ename": "EOFError",
     "evalue": "Ran out of input",
     "output_type": "error",
     "traceback": [
      "\u001b[1;31m---------------------------------------------------------------------------\u001b[0m",
      "\u001b[1;31mEOFError\u001b[0m                                  Traceback (most recent call last)",
      "\u001b[1;32m<ipython-input-70-e986edf99f78>\u001b[0m in \u001b[0;36m<module>\u001b[1;34m\u001b[0m\n\u001b[1;32m----> 1\u001b[1;33m \u001b[0mread11\u001b[0m\u001b[1;33m(\u001b[0m\u001b[1;33m)\u001b[0m\u001b[1;33m\u001b[0m\u001b[1;33m\u001b[0m\u001b[0m\n\u001b[0m",
      "\u001b[1;32m<ipython-input-69-19f44665be1b>\u001b[0m in \u001b[0;36mread11\u001b[1;34m()\u001b[0m\n\u001b[0;32m      2\u001b[0m \u001b[1;32mdef\u001b[0m \u001b[0mread11\u001b[0m\u001b[1;33m(\u001b[0m\u001b[1;33m)\u001b[0m\u001b[1;33m:\u001b[0m\u001b[1;33m\u001b[0m\u001b[1;33m\u001b[0m\u001b[0m\n\u001b[0;32m      3\u001b[0m     \u001b[0mr\u001b[0m\u001b[1;33m=\u001b[0m\u001b[0mopen\u001b[0m\u001b[1;33m(\u001b[0m\u001b[1;34m\"D:\\\\PYTHON\\\\start\\\\myfile2.dat\"\u001b[0m\u001b[1;33m,\u001b[0m\u001b[1;34m\"rb\"\u001b[0m\u001b[1;33m)\u001b[0m\u001b[1;33m\u001b[0m\u001b[1;33m\u001b[0m\u001b[0m\n\u001b[1;32m----> 4\u001b[1;33m     \u001b[0ms\u001b[0m\u001b[1;33m=\u001b[0m\u001b[0mpickle\u001b[0m\u001b[1;33m.\u001b[0m\u001b[0mload\u001b[0m\u001b[1;33m(\u001b[0m\u001b[0mr\u001b[0m\u001b[1;33m)\u001b[0m\u001b[1;33m\u001b[0m\u001b[1;33m\u001b[0m\u001b[0m\n\u001b[0m\u001b[0;32m      5\u001b[0m     \u001b[0mprint\u001b[0m\u001b[1;33m(\u001b[0m\u001b[0ms\u001b[0m\u001b[1;33m)\u001b[0m\u001b[1;33m\u001b[0m\u001b[1;33m\u001b[0m\u001b[0m\n\u001b[0;32m      6\u001b[0m     \u001b[0mr\u001b[0m\u001b[1;33m.\u001b[0m\u001b[0mclose\u001b[0m\u001b[1;33m(\u001b[0m\u001b[1;33m)\u001b[0m\u001b[1;33m\u001b[0m\u001b[1;33m\u001b[0m\u001b[0m\n",
      "\u001b[1;31mEOFError\u001b[0m: Ran out of input"
     ]
    }
   ],
   "source": [
    "read11()"
   ]
  },
  {
   "cell_type": "code",
   "execution_count": null,
   "metadata": {},
   "outputs": [],
   "source": []
  }
 ],
 "metadata": {
  "kernelspec": {
   "display_name": "Python 3",
   "language": "python",
   "name": "python3"
  },
  "language_info": {
   "codemirror_mode": {
    "name": "ipython",
    "version": 3
   },
   "file_extension": ".py",
   "mimetype": "text/x-python",
   "name": "python",
   "nbconvert_exporter": "python",
   "pygments_lexer": "ipython3",
   "version": "3.8.5"
  }
 },
 "nbformat": 4,
 "nbformat_minor": 4
}
